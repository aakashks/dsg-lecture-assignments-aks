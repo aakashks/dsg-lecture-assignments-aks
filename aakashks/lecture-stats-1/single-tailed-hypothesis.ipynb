{
 "cells": [
  {
   "cell_type": "code",
   "execution_count": 1,
   "id": "72c27afe",
   "metadata": {
    "execution": {
     "iopub.execute_input": "2023-05-08T07:51:42.499690Z",
     "iopub.status.busy": "2023-05-08T07:51:42.499281Z",
     "iopub.status.idle": "2023-05-08T07:51:42.508525Z",
     "shell.execute_reply": "2023-05-08T07:51:42.507737Z"
    },
    "papermill": {
     "duration": 0.015097,
     "end_time": "2023-05-08T07:51:42.510642",
     "exception": false,
     "start_time": "2023-05-08T07:51:42.495545",
     "status": "completed"
    },
    "tags": []
   },
   "outputs": [],
   "source": [
    "# importing libraries\n",
    "import pandas as pd\n",
    "import numpy as np\n"
   ]
  },
  {
   "cell_type": "code",
   "execution_count": 5,
   "id": "a89b773f",
   "metadata": {
    "execution": {
     "iopub.execute_input": "2023-05-08T07:51:42.516483Z",
     "iopub.status.busy": "2023-05-08T07:51:42.515772Z",
     "iopub.status.idle": "2023-05-08T07:51:43.281818Z",
     "shell.execute_reply": "2023-05-08T07:51:43.280735Z"
    },
    "papermill": {
     "duration": 0.771864,
     "end_time": "2023-05-08T07:51:43.284488",
     "exception": false,
     "start_time": "2023-05-08T07:51:42.512624",
     "status": "completed"
    },
    "tags": []
   },
   "outputs": [
    {
     "data": {
      "text/html": [
       "<div>\n",
       "<style scoped>\n",
       "    .dataframe tbody tr th:only-of-type {\n",
       "        vertical-align: middle;\n",
       "    }\n",
       "\n",
       "    .dataframe tbody tr th {\n",
       "        vertical-align: top;\n",
       "    }\n",
       "\n",
       "    .dataframe thead th {\n",
       "        text-align: right;\n",
       "    }\n",
       "</style>\n",
       "<table border=\"1\" class=\"dataframe\">\n",
       "  <thead>\n",
       "    <tr style=\"text-align: right;\">\n",
       "      <th></th>\n",
       "      <th>user id</th>\n",
       "      <th>test group</th>\n",
       "      <th>converted</th>\n",
       "      <th>total ads</th>\n",
       "      <th>most ads day</th>\n",
       "      <th>most ads hour</th>\n",
       "    </tr>\n",
       "  </thead>\n",
       "  <tbody>\n",
       "    <tr>\n",
       "      <th>0</th>\n",
       "      <td>1069124</td>\n",
       "      <td>ad</td>\n",
       "      <td>False</td>\n",
       "      <td>130</td>\n",
       "      <td>Monday</td>\n",
       "      <td>20</td>\n",
       "    </tr>\n",
       "    <tr>\n",
       "      <th>1</th>\n",
       "      <td>1119715</td>\n",
       "      <td>ad</td>\n",
       "      <td>False</td>\n",
       "      <td>93</td>\n",
       "      <td>Tuesday</td>\n",
       "      <td>22</td>\n",
       "    </tr>\n",
       "    <tr>\n",
       "      <th>2</th>\n",
       "      <td>1144181</td>\n",
       "      <td>ad</td>\n",
       "      <td>False</td>\n",
       "      <td>21</td>\n",
       "      <td>Tuesday</td>\n",
       "      <td>18</td>\n",
       "    </tr>\n",
       "    <tr>\n",
       "      <th>3</th>\n",
       "      <td>1435133</td>\n",
       "      <td>ad</td>\n",
       "      <td>False</td>\n",
       "      <td>355</td>\n",
       "      <td>Tuesday</td>\n",
       "      <td>10</td>\n",
       "    </tr>\n",
       "    <tr>\n",
       "      <th>4</th>\n",
       "      <td>1015700</td>\n",
       "      <td>ad</td>\n",
       "      <td>False</td>\n",
       "      <td>276</td>\n",
       "      <td>Friday</td>\n",
       "      <td>14</td>\n",
       "    </tr>\n",
       "  </tbody>\n",
       "</table>\n",
       "</div>"
      ],
      "text/plain": [
       "   user id test group  converted  total ads most ads day  most ads hour\n",
       "0  1069124         ad      False        130       Monday             20\n",
       "1  1119715         ad      False         93      Tuesday             22\n",
       "2  1144181         ad      False         21      Tuesday             18\n",
       "3  1435133         ad      False        355      Tuesday             10\n",
       "4  1015700         ad      False        276       Friday             14"
      ]
     },
     "execution_count": 5,
     "metadata": {},
     "output_type": "execute_result"
    }
   ],
   "source": [
    "data = pd.read_csv('marketing_AB.csv', index_col=0)\n",
    "data.head()"
   ]
  },
  {
   "cell_type": "code",
   "execution_count": 6,
   "id": "76a2b57d",
   "metadata": {
    "papermill": {
     "duration": 0.001637,
     "end_time": "2023-05-08T07:51:43.288117",
     "exception": false,
     "start_time": "2023-05-08T07:51:43.286480",
     "status": "completed"
    },
    "tags": []
   },
   "outputs": [
    {
     "name": "stdout",
     "output_type": "stream",
     "text": [
      "<class 'pandas.core.frame.DataFrame'>\n",
      "Int64Index: 588101 entries, 0 to 588100\n",
      "Data columns (total 6 columns):\n",
      " #   Column         Non-Null Count   Dtype \n",
      "---  ------         --------------   ----- \n",
      " 0   user id        588101 non-null  int64 \n",
      " 1   test group     588101 non-null  object\n",
      " 2   converted      588101 non-null  bool  \n",
      " 3   total ads      588101 non-null  int64 \n",
      " 4   most ads day   588101 non-null  object\n",
      " 5   most ads hour  588101 non-null  int64 \n",
      "dtypes: bool(1), int64(3), object(2)\n",
      "memory usage: 27.5+ MB\n"
     ]
    }
   ],
   "source": [
    "data.info()"
   ]
  },
  {
   "cell_type": "code",
   "execution_count": 15,
   "id": "9c6531d1",
   "metadata": {},
   "outputs": [
    {
     "data": {
      "text/plain": [
       "ad     564577\n",
       "psa     23524\n",
       "Name: test group, dtype: int64"
      ]
     },
     "execution_count": 15,
     "metadata": {},
     "output_type": "execute_result"
    }
   ],
   "source": [
    "data[\"test group\"].value_counts()"
   ]
  },
  {
   "cell_type": "code",
   "execution_count": 18,
   "id": "07507bd2",
   "metadata": {},
   "outputs": [
    {
     "data": {
      "text/plain": [
       "0         True\n",
       "1         True\n",
       "2         True\n",
       "3         True\n",
       "4         True\n",
       "          ... \n",
       "588096    True\n",
       "588097    True\n",
       "588098    True\n",
       "588099    True\n",
       "588100    True\n",
       "Name: test group, Length: 588101, dtype: bool"
      ]
     },
     "execution_count": 18,
     "metadata": {},
     "output_type": "execute_result"
    }
   ],
   "source": [
    "data[\"test group\"] == \"ad\""
   ]
  },
  {
   "cell_type": "code",
   "execution_count": 28,
   "id": "e4ecfdca",
   "metadata": {},
   "outputs": [],
   "source": [
    "ad_group = data.loc[data[\"test group\"] == 'ad']"
   ]
  },
  {
   "cell_type": "code",
   "execution_count": 29,
   "id": "e09be71a",
   "metadata": {},
   "outputs": [],
   "source": [
    "psa_group = data.loc[data['test group'] == 'psa']"
   ]
  },
  {
   "cell_type": "code",
   "execution_count": 31,
   "id": "e3c01881",
   "metadata": {},
   "outputs": [
    {
     "data": {
      "text/plain": [
       "False    550154\n",
       "True      14423\n",
       "Name: converted, dtype: int64"
      ]
     },
     "execution_count": 31,
     "metadata": {},
     "output_type": "execute_result"
    }
   ],
   "source": [
    "ad_group[\"converted\"].value_counts()"
   ]
  },
  {
   "cell_type": "code",
   "execution_count": 32,
   "id": "0b04c46b",
   "metadata": {},
   "outputs": [
    {
     "data": {
      "text/plain": [
       "False    23104\n",
       "True       420\n",
       "Name: converted, dtype: int64"
      ]
     },
     "execution_count": 32,
     "metadata": {},
     "output_type": "execute_result"
    }
   ],
   "source": [
    "psa_group['converted'].value_counts()"
   ]
  },
  {
   "cell_type": "code",
   "execution_count": 33,
   "id": "44f9553e",
   "metadata": {},
   "outputs": [
    {
     "data": {
      "text/plain": [
       "0.025546559636683747"
      ]
     },
     "execution_count": 33,
     "metadata": {},
     "output_type": "execute_result"
    }
   ],
   "source": [
    "ad_group['converted'].mean()"
   ]
  },
  {
   "cell_type": "code",
   "execution_count": 34,
   "id": "c6c17456",
   "metadata": {},
   "outputs": [
    {
     "data": {
      "text/plain": [
       "0.01785410644448223"
      ]
     },
     "execution_count": 34,
     "metadata": {},
     "output_type": "execute_result"
    }
   ],
   "source": [
    "psa_group['converted'].mean()"
   ]
  },
  {
   "cell_type": "code",
   "execution_count": null,
   "id": "2ff6be1b",
   "metadata": {},
   "outputs": [],
   "source": []
  }
 ],
 "metadata": {
  "kernelspec": {
   "display_name": "Python 3",
   "language": "python",
   "name": "python3"
  },
  "language_info": {
   "codemirror_mode": {
    "name": "ipython",
    "version": 3
   },
   "file_extension": ".py",
   "mimetype": "text/x-python",
   "name": "python",
   "nbconvert_exporter": "python",
   "pygments_lexer": "ipython3",
   "version": "3.8.15"
  },
  "papermill": {
   "default_parameters": {},
   "duration": 11.605795,
   "end_time": "2023-05-08T07:51:44.111042",
   "environment_variables": {},
   "exception": null,
   "input_path": "__notebook__.ipynb",
   "output_path": "__notebook__.ipynb",
   "parameters": {},
   "start_time": "2023-05-08T07:51:32.505247",
   "version": "2.4.0"
  }
 },
 "nbformat": 4,
 "nbformat_minor": 5
}
