{
 "cells": [
  {
   "cell_type": "code",
   "execution_count": 40,
   "metadata": {
    "ExecuteTime": {
     "end_time": "2023-06-26T10:53:42.957812500Z",
     "start_time": "2023-06-26T10:53:42.779347400Z"
    }
   },
   "outputs": [],
   "source": [
    "import numpy as np\n",
    "import math\n",
    "import pandas as pd\n",
    "import matplotlib.pyplot as plt\n",
    "import seaborn as sns\n",
    "from scipy.stats import norm\n",
    "\n",
    "np.random.seed(42)"
   ]
  },
  {
   "attachments": {},
   "cell_type": "markdown",
   "metadata": {},
   "source": [
    "Q1\n",
    "Let tickets collected by Alice and Bob be represented by r.v.s $X$ and $Y$\n",
    "$$ X \\sim Poisson(10) $$\n",
    "$$ Y \\sim Poisson(15) $$\n",
    "\n",
    "Let $A$ denote the event that Alice collected in place of Bob\n",
    "Priori $P(A) = \\frac{1}{11}$,\n",
    "$$P(A|y) = \\frac{P(y|A) P(A)}{P(y)}$$\n",
    "where $y$ represents the information obtained by the observed data\n",
    "\n",
    "the maximum likelihood estimate of the poisson parameter $\\lambda$ as obtained by the given data is $\\hat{\\lambda} = 9.6$\n",
    "\n",
    "$$P(y_i|A) = \\frac{{10}^{y_i}}{y_i!} e^{-10}$$\n",
    "$$P(y|A) = \\prod_{i=1}^{5} P(y_i|A)$$\n",
    "$$P(y) = P(y|A) P(A) + P(y|\\bar{A}) P(\\bar{A}) $$\n",
    "\n",
    "where for $\\bar{A}$, $\\lambda = 15$\n"
   ]
  },
  {
   "cell_type": "code",
   "execution_count": 41,
   "metadata": {
    "ExecuteTime": {
     "end_time": "2023-06-26T10:53:43.012857900Z",
     "start_time": "2023-06-26T10:53:42.957812500Z"
    }
   },
   "outputs": [],
   "source": [
    "y = np.array([ 12, 10, 11, 4, 11])"
   ]
  },
  {
   "attachments": {},
   "cell_type": "markdown",
   "metadata": {},
   "source": [
    "direcly performing operations would result in big ints\n",
    "hence I use log to reduce\n",
    "\n",
    "$$\\log P(y|\\lambda) = \\sum (-\\lambda + y_i \\log \\lambda - \\log y_i!)$$\n",
    "$$\\log P(y|\\lambda) = -5\\lambda + \\log \\lambda \\sum y_i - \\sum \\log y_i! $$"
   ]
  },
  {
   "cell_type": "code",
   "execution_count": 42,
   "metadata": {
    "ExecuteTime": {
     "end_time": "2023-06-26T10:53:43.013935200Z",
     "start_time": "2023-06-26T10:53:42.980241Z"
    }
   },
   "outputs": [],
   "source": [
    "log_arr = np.log(np.vectorize(math.factorial)(y))\n",
    "def calculate_conditional_prob(l):\n",
    "    log_prob_y_given_theta = -5*l + np.log(l) * y.sum() - log_arr.sum()\n",
    "    prob_y_given_theta = np.exp(log_prob_y_given_theta)\n",
    "    return prob_y_given_theta"
   ]
  },
  {
   "cell_type": "code",
   "execution_count": 43,
   "metadata": {
    "ExecuteTime": {
     "end_time": "2023-06-26T10:53:43.047478800Z",
     "start_time": "2023-06-26T10:53:43.000498400Z"
    }
   },
   "outputs": [],
   "source": [
    "priori_a = 1/11\n",
    "prob_y_given_a = calculate_conditional_prob(10)\n",
    "prob_y_given_b = calculate_conditional_prob(15)\n",
    "\n",
    "posteriori = 1/(1 + (prob_y_given_b * (1-priori_a))/(prob_y_given_a * priori_a))"
   ]
  },
  {
   "cell_type": "code",
   "execution_count": 44,
   "metadata": {
    "ExecuteTime": {
     "end_time": "2023-06-26T10:53:43.047478800Z",
     "start_time": "2023-06-26T10:53:43.006921600Z"
    }
   },
   "outputs": [
    {
     "name": "stdout",
     "output_type": "stream",
     "text": [
      "the manager’s posterior odds that Alice is filling in for Bob are 25.409\n"
     ]
    }
   ],
   "source": [
    "print(f\"the manager’s posterior odds that Alice is filling in for Bob are {posteriori/(1-posteriori):.3f}\")"
   ]
  },
  {
   "attachments": {},
   "cell_type": "markdown",
   "metadata": {},
   "source": [
    "Q2\n",
    "$$X\\sim N\\left( \\theta ,4\\right)$$\n",
    "priori pdf $$ \\theta \\sim N\\left( 5,9\\right)$$"
   ]
  },
  {
   "attachments": {},
   "cell_type": "markdown",
   "metadata": {
    "collapsed": false
   },
   "source": [
    "(A)\n",
    "![](/aakashks/assets/math_handwriting/Screenshot 2023-06-26 160505.png)\n",
    "![](/aakashks/assets/math_handwriting/Screenshot 2023-06-26 160909.png)"
   ]
  },
  {
   "attachments": {},
   "cell_type": "markdown",
   "metadata": {
    "collapsed": false
   },
   "source": [
    "(B)"
   ]
  },
  {
   "cell_type": "code",
   "execution_count": 45,
   "metadata": {
    "ExecuteTime": {
     "end_time": "2023-06-26T10:53:43.047478800Z",
     "start_time": "2023-06-26T10:53:43.022730900Z"
    },
    "collapsed": false
   },
   "outputs": [],
   "source": [
    "mu_prior = 5\n",
    "var_prior = 9\n",
    "a = 1/var_prior\n",
    "b = 1\n",
    "sample_mean = 6\n",
    "mu_post = (a*mu_prior + b*sample_mean)/(a+b)\n",
    "var_post = 1/(a+b)"
   ]
  },
  {
   "cell_type": "code",
   "execution_count": 46,
   "metadata": {
    "ExecuteTime": {
     "end_time": "2023-06-26T10:54:42.398944Z",
     "start_time": "2023-06-26T10:54:42.373347900Z"
    },
    "collapsed": false
   },
   "outputs": [
    {
     "name": "stdout",
     "output_type": "stream",
     "text": [
      "hence it is N(5.9,0.9)\n"
     ]
    }
   ],
   "source": [
    "print(f'hence it is N({mu_post:.1f},{var_post:.1f})')"
   ]
  },
  {
   "cell_type": "code",
   "execution_count": 47,
   "metadata": {
    "collapsed": false
   },
   "outputs": [
    {
     "data": {
      "text/plain": [
       "<matplotlib.legend.Legend at 0x258137f3cd0>"
      ]
     },
     "execution_count": 47,
     "metadata": {},
     "output_type": "execute_result"
    },
    {
     "data": {
      "image/png": "[encoded data removed]",
      "text/plain": [
       "<Figure size 640x480 with 1 Axes>"
      ]
     },
     "metadata": {},
     "output_type": "display_data"
    }
   ],
   "source": [
    "xvals = np.linspace(-10, 20, 1000)\n",
    "plt.plot(xvals, norm.pdf(xvals, loc = mu_prior, scale = np.sqrt(var_prior)), label='$N(5,9)$')\n",
    "plt.plot(xvals, norm.pdf(xvals, loc = mu_post, scale = np.sqrt(var_post)), label='$N(5.9, 0.9)$')\n",
    "plt.legend()"
   ]
  },
  {
   "attachments": {},
   "cell_type": "markdown",
   "metadata": {},
   "source": [
    "(C) \\\n",
    "the more data we receive, the more certain we are about the theta value.\n",
    "this is because increasing $n$ decreases the $\\sigma_{post}^2$ \n",
    "and by more values we make the $\\mu_{post}$ reach closer to the sample mean"
   ]
  },
  {
   "attachments": {},
   "cell_type": "markdown",
   "metadata": {},
   "source": [
    "(D)"
   ]
  },
  {
   "cell_type": "code",
   "execution_count": 48,
   "metadata": {},
   "outputs": [
    {
     "name": "stdout",
     "output_type": "stream",
     "text": [
      "Vard's IQ = 86.15 and Taft's IQ = 134.62\n"
     ]
    }
   ],
   "source": [
    "# we'll use the same formula with different prior values and test variances\n",
    "\n",
    "mu_prior = 100\n",
    "var_prior = 15**2\n",
    "test_var = 100\n",
    "b = 1/test_var\n",
    "a = 1/var_prior\n",
    "\n",
    "def expected_IQ(score):\n",
    "    mu_post = (a*mu_prior + b*score)/(a+b)\n",
    "    return mu_post\n",
    "\n",
    "vard_IQ = expected_IQ(80)\n",
    "taft_IQ = expected_IQ(150)\n",
    "\n",
    "print(f\"Vard's IQ = {vard_IQ:.2f} and Taft's IQ = {taft_IQ:.2f}\")\n"
   ]
  },
  {
   "cell_type": "code",
   "execution_count": 49,
   "metadata": {},
   "outputs": [
    {
     "data": {
      "text/plain": [
       "<matplotlib.legend.Legend at 0x2581383fd10>"
      ]
     },
     "execution_count": 49,
     "metadata": {},
     "output_type": "execute_result"
    },
    {
     "data": {
      "image/png": "[encoded data removed]",
      "text/plain": [
       "<Figure size 640x480 with 1 Axes>"
      ]
     },
     "metadata": {},
     "output_type": "display_data"
    }
   ],
   "source": [
    "\n",
    "xvals = np.linspace(60, 140, 1000)\n",
    "plt.plot(xvals, norm.pdf(xvals, loc=mu_prior, scale=np.sqrt(var_prior)), label='$N(100,15^2)$')\n",
    "plt.plot(xvals, norm.pdf(xvals, loc=vard_IQ, scale=np.sqrt(var_post)), label='Vard IQ')\n",
    "plt.plot(xvals, norm.pdf(xvals, loc=taft_IQ, scale=np.sqrt(var_post)), label='Taft IQ')\n",
    "plt.legend()\n"
   ]
  },
  {
   "attachments": {},
   "cell_type": "markdown",
   "metadata": {},
   "source": [
    "Q3\n",
    "MLE on Gaussian dist parameters yields\n",
    "\n",
    "$$\\hat{\\mu} = \\frac{1}{n}{\\sum_{i=1}^n X_i}$$\n",
    "\n",
    "$$\\hat{\\sigma}^2 = \\frac{1}{n}\\sum_{i=1}^n (X_i-\\bar{X})^2$$"
   ]
  },
  {
   "cell_type": "code",
   "execution_count": 50,
   "metadata": {
    "ExecuteTime": {
     "end_time": "2023-06-24T11:58:17.019656700Z",
     "start_time": "2023-06-24T11:58:16.987529500Z"
    }
   },
   "outputs": [],
   "source": [
    "# given dataset as a numpy array \n",
    "\n",
    "mu, sigma, size = 0., 1., 1000\n",
    "gaussian_data = np.random.normal(mu, sigma, size)\n"
   ]
  },
  {
   "cell_type": "code",
   "execution_count": 51,
   "metadata": {
    "ExecuteTime": {
     "end_time": "2023-06-24T11:58:17.459701900Z",
     "start_time": "2023-06-24T11:58:17.438225100Z"
    }
   },
   "outputs": [],
   "source": [
    "mu_estimate = np.mean(gaussian_data)\n"
   ]
  },
  {
   "cell_type": "code",
   "execution_count": 52,
   "metadata": {
    "ExecuteTime": {
     "end_time": "2023-06-24T11:58:18.011082500Z",
     "start_time": "2023-06-24T11:58:17.976355200Z"
    }
   },
   "outputs": [],
   "source": [
    "sigma_estimate = np.sqrt(np.var(gaussian_data))"
   ]
  },
  {
   "cell_type": "code",
   "execution_count": 53,
   "metadata": {
    "ExecuteTime": {
     "end_time": "2023-06-24T11:59:03.742138800Z",
     "start_time": "2023-06-24T11:59:03.737952900Z"
    }
   },
   "outputs": [
    {
     "name": "stdout",
     "output_type": "stream",
     "text": [
      "0.01933205582232549 0.9787262077473543\n"
     ]
    }
   ],
   "source": [
    "print(mu_estimate, sigma_estimate)"
   ]
  },
  {
   "attachments": {},
   "cell_type": "markdown",
   "metadata": {},
   "source": [
    "Q4\n",
    "\n",
    "\n",
    "\n",
    "the likelihood function $$L(\\theta) = P(Y|X;\\theta)$$\n",
    "$$ L(\\theta) = \\prod \\big({h_\\theta (x^{(i)})}\\big)^{y^{(i)}} \\big({1 - h_\\theta (x^{(i)})}\\big)^{ 1-y^{(i)}} $$\n",
    "$$\\textrm{log-likelihood, }\\ell(\\theta) = \\log L(\\theta) = \\sum_{i=1}^n \\left[ y^{(i)} \\log h_\\theta(x^{(i)}) + (1 - y^{(i)}) \\log (1 - h_\\theta(x^{(i)})) \\right]$$\n",
    "\n",
    "prior is $P(\\theta)  = N(\\theta; \\bold{\\mu}, \\bold{\\sum})$"
   ]
  },
  {
   "attachments": {},
   "cell_type": "markdown",
   "metadata": {},
   "source": [
    "$$\\text{posterior is, } P(\\theta|data) = \\frac{P(data|\\theta) P(\\theta)}{P(data)}$$\n",
    "\n",
    "to apply MAP we have to maximise $\\theta$ \\\n",
    "as $ P(data) $ is independent of $\\theta$, \n",
    "\n",
    "$$ \\hat{\\theta}  = \\text{argmax  } {P(data|\\theta) P(\\theta)} $$\n",
    "$$ \\implies \\hat{\\theta} = argmax \\big( logP(D|\\theta) +logP(\\theta)\\big)  $$\n",
    "$$ \\implies \\hat{\\theta} = argmax \\big( \\ell(\\theta) - \\frac{1}{2}{\\theta^T \\Sigma^{-1}\\theta} \\big) $$\n",
    "\n",
    "where $\\mu = 0$"
   ]
  },
  {
   "cell_type": "code",
   "execution_count": 54,
   "metadata": {
    "tags": []
   },
   "outputs": [
    {
     "data": {
      "text/plain": [
       "[<matplotlib.lines.Line2D at 0x25813a20e10>]"
      ]
     },
     "execution_count": 54,
     "metadata": {},
     "output_type": "execute_result"
    },
    {
     "data": {
      "image/png": "[encoded data removed]",
      "text/plain": [
       "<Figure size 500x500 with 1 Axes>"
      ]
     },
     "metadata": {},
     "output_type": "display_data"
    }
   ],
   "source": [
    "# for simplicity the dimensions of the data , X is 100, 1 only\n",
    "\n",
    "# creating custom binary classification data\n",
    "data_x = np.arange(0, 100)\n",
    "\n",
    "# setting the parameters values as 40, 5\n",
    "probabilities = norm.cdf(data_x, loc=40, scale=5)\n",
    "random_vals = np.random.random(data_x.shape)\n",
    "\n",
    "data_y = np.where(random_vals < probabilities, 1, 0)\n",
    "\n",
    "df = pd.DataFrame({'x': data_x, 'y': data_y})\n",
    "sns.lmplot(x=\"x\", y=\"y\", data=df, logistic=True, ci=None, y_jitter=0.03)\n",
    "plt.plot(data_x, probabilities, color='red', label='original')"
   ]
  },
  {
   "cell_type": "code",
   "execution_count": 95,
   "metadata": {},
   "outputs": [],
   "source": [
    "# intial theta\n",
    "theta_initial = 0.04\n",
    "\n",
    "# prior on theta is suppose N(50, 25)\n",
    "prior_mean = 50\n",
    "prior_variance = 25\n",
    "\n",
    "# writing the function to be maximised\n",
    "def sigmoid(x_i, theta):\n",
    "    return 1/(1 + np.exp(-theta * x_i))\n",
    "\n",
    "def h(x, theta):\n",
    "    return np.vectorize(sigmoid)(x, theta)\n",
    "\n",
    "def argmin_function(x, y, theta, mean, var):\n",
    "    h_array = h(theta, x)\n",
    "    log_likelihood = y.dot(np.log(h_array)) + (1-y).dot(np.log(1-h_array))\n",
    "    log_prior = - (theta-mean)**2/(2*var)\n",
    "    log_posterior = log_likelihood + log_prior\n",
    "    \n",
    "    return -log_posterior\n"
   ]
  },
  {
   "cell_type": "code",
   "execution_count": 96,
   "metadata": {},
   "outputs": [
    {
     "data": {
      "text/plain": [
       "array([0.5       , 0.50999867, 0.51998934, 0.52996405, 0.53991488,\n",
       "       0.549834  , 0.55971365, 0.56954622, 0.57932425, 0.58904043,\n",
       "       0.59868766, 0.60825903, 0.61774787, 0.62714777, 0.63645254,\n",
       "       0.64565631, 0.65475346, 0.6637387 , 0.67260702, 0.68135373,\n",
       "       0.68997448, 0.69846522, 0.70682222, 0.71504211, 0.72312181,\n",
       "       0.73105858, 0.73885001, 0.74649398, 0.75398872, 0.76133271,\n",
       "       0.76852478, 0.77556401, 0.78244978, 0.78918171, 0.7957597 ,\n",
       "       0.80218389, 0.80845465, 0.81457258, 0.82053848, 0.82635335,\n",
       "       0.83201839, 0.83753494, 0.84290453, 0.84812884, 0.85320966,\n",
       "       0.85814894, 0.86294871, 0.86761113, 0.87213843, 0.87653295,\n",
       "       0.88079708, 0.88493327, 0.88894403, 0.89283193, 0.89659955,\n",
       "       0.90024951, 0.90378446, 0.90720705, 0.91051994, 0.91372581,\n",
       "       0.9168273 , 0.91982709, 0.9227278 , 0.92553205, 0.92824246,\n",
       "       0.93086158, 0.93339196, 0.93583612, 0.93819653, 0.94047563,\n",
       "       0.94267582, 0.94479946, 0.94684886, 0.9488263 , 0.95073399,\n",
       "       0.95257413, 0.95434883, 0.95606018, 0.95771023, 0.95930095,\n",
       "       0.96083428, 0.96231211, 0.96373628, 0.96510859, 0.96643078,\n",
       "       0.96770454, 0.96893152, 0.97011332, 0.9712515 , 0.97234758,\n",
       "       0.97340301, 0.97441921, 0.97539757, 0.97633942, 0.97724606,\n",
       "       0.97811873, 0.97895865, 0.979767  , 0.98054492, 0.98129349])"
      ]
     },
     "execution_count": 96,
     "metadata": {},
     "output_type": "execute_result"
    }
   ],
   "source": [
    "h(data_x, theta_initial)"
   ]
  },
  {
   "cell_type": "code",
   "execution_count": 97,
   "metadata": {},
   "outputs": [],
   "source": [
    "# the above result is not what I desire, so will look on it later"
   ]
  },
  {
   "attachments": {},
   "cell_type": "markdown",
   "metadata": {},
   "source": [
    "Q5\n",
    "VC dimension\n",
    "\n",
    "a. 0 \n",
    "the constant function never guarantees to be in any way of a data point\n",
    "so all the +, - data points can be on one side only and would never be shattered\n",
    "\n",
    "b. d+1\n",
    "linear classifier of d dimension known result\n",
    "\n",
    "c. 4\n",
    "there exists a set of 4 points on the plane which can always be shattered\n",
    "but for 5 points no set of 5 point would satisfy\n",
    "\n",
    "d. 2\n",
    "obviously 2 points can be shattered\n",
    "but there is no such set of 3 point which can be shattered in the orientation +-+\n"
   ]
  }
 ],
 "metadata": {
  "kernelspec": {
   "display_name": "Python 3 (ipykernel)",
   "language": "python",
   "name": "python3"
  },
  "language_info": {
   "codemirror_mode": {
    "name": "ipython",
    "version": 3
   },
   "file_extension": ".py",
   "mimetype": "text/x-python",
   "name": "python",
   "nbconvert_exporter": "python",
   "pygments_lexer": "ipython3",
   "version": "3.11.3"
  }
 },
 "nbformat": 4,
 "nbformat_minor": 2
}
